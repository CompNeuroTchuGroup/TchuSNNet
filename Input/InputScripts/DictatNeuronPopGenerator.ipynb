{
 "cells": [
  {
   "attachments": {},
   "cell_type": "markdown",
   "metadata": {},
   "source": [
    "### Base parameters and arrays"
   ]
  },
  {
   "cell_type": "code",
   "execution_count": 1,
   "metadata": {},
   "outputs": [],
   "source": [
    "from utils import PairedPopsGenerator, InputGenerator"
   ]
  },
  {
   "cell_type": "code",
   "execution_count": 3,
   "metadata": {},
   "outputs": [],
   "source": [
    "testname='testCorr2'\n",
    "pop_id1='0'\n",
    "pop_id2='1'\n",
    "filename1=testname+'_DictatNeuronPop_'+pop_id1+'_spikers.txt'\n",
    "filename2=testname+'_DictatNeuronPop_'+pop_id2+'_spikers.txt'\n",
    "\n",
    "N_neurons=200\n",
    "total_time=600.0 #In seconds\n",
    "total_time_intervals=3\n",
    "first_active=False\n",
    "interval_duration=total_time/total_time_intervals\n",
    "\n",
    "gen=PairedPopsGenerator()"
   ]
  },
  {
   "cell_type": "markdown",
   "metadata": {},
   "source": [
    "## Input generator running code"
   ]
  },
  {
   "cell_type": "code",
   "execution_count": 22,
   "metadata": {},
   "outputs": [],
   "source": [
    "\n",
    "\n",
    "testname='testCorr2'\n",
    "pop_id1='0'\n",
    "N_neurons=200\n",
    "total_time=600.0 #In seconds\n",
    "total_time_intervals=2\n",
    "first_active=True\n",
    "gen=InputGenerator(N_neurons=N_neurons,total_time_intervals=total_time_intervals,total_time=total_time,testname=testname,pop_id1=pop_id1,first_interval_true=first_active,max_offset_inpop=0.1)\n",
    "\n",
    "gen.set_up_arrays_random_max_frequency(5.7,False)\n",
    "gen.one_to_two_alterate_step_instructions_non_shuffled(8.9,4.6)\n",
    "gen.generate_instructions_from_arrays()"
   ]
  },
  {
   "cell_type": "markdown",
   "metadata": {},
   "source": [
    "## Paired Stimuli generator code"
   ]
  },
  {
   "cell_type": "code",
   "execution_count": 2,
   "metadata": {},
   "outputs": [],
   "source": [
    "# gen=PairedPopsGenerator(testname='prepost%d'.format(i),pop_id1='0',pop_id2='1',N_Neurons_1=1,N_Neurons_2=1)\n",
    "# gen.paired_stimm(10,40,(i)*dt-0.015,0.5)\n",
    "gen=PairedPopsGenerator(testname='prepost1',pop_id1='0',pop_id2='1',N_Neurons_1=1,N_Neurons_2=1,total_time=600,time_intervals=3)\n",
    "gen.paired_stimm(10,40,-0.015,0.5)"
   ]
  }
 ],
 "metadata": {
  "kernelspec": {
   "display_name": "base",
   "language": "python",
   "name": "python3"
  },
  "language_info": {
   "codemirror_mode": {
    "name": "ipython",
    "version": 3
   },
   "file_extension": ".py",
   "mimetype": "text/x-python",
   "name": "python",
   "nbconvert_exporter": "python",
   "pygments_lexer": "ipython3",
   "version": "3.11.3"
  },
  "orig_nbformat": 4
 },
 "nbformat": 4,
 "nbformat_minor": 2
}
