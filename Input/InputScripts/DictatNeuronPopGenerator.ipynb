{
 "cells": [
  {
   "attachments": {},
   "cell_type": "markdown",
   "metadata": {},
   "source": [
    "### Base parameters and arrays"
   ]
  },
  {
   "cell_type": "code",
   "execution_count": 1,
   "metadata": {},
   "outputs": [],
   "source": [
    "from utils import PairedPopsGenerator, InputGenerator"
   ]
  },
  {
   "cell_type": "code",
   "execution_count": 3,
   "metadata": {},
   "outputs": [],
   "source": [
    "testname='testCorr2'\n",
    "pop_id1='0'\n",
    "pop_id2='1'\n",
    "filename1=testname+'_DictatNeuronPop_'+pop_id1+'_spikers.txt'\n",
    "filename2=testname+'_DictatNeuronPop_'+pop_id2+'_spikers.txt'\n",
    "\n",
    "N_neurons=200\n",
    "total_time=600.0 #In seconds\n",
    "total_time_intervals=3\n",
    "first_active=False\n",
    "interval_duration=total_time/total_time_intervals\n",
    "\n",
    "gen=PairedPopsGenerator()"
   ]
  },
  {
   "cell_type": "markdown",
   "metadata": {},
   "source": [
    "## Input generator running code"
   ]
  },
  {
   "cell_type": "code",
   "execution_count": 22,
   "metadata": {},
   "outputs": [],
   "source": [
    "\n",
    "\n",
    "testname='testCorr2'\n",
    "pop_id1='0'\n",
    "N_neurons=200\n",
    "total_time=600.0 #In seconds\n",
    "total_time_intervals=2\n",
    "first_active=True\n",
    "gen=InputGenerator(N_neurons=N_neurons,total_time_intervals=total_time_intervals,total_time=total_time,testname=testname,pop_id1=pop_id1,first_interval_true=first_active,max_offset_inpop=0.1)\n",
    "\n",
    "gen.set_up_arrays_random_max_frequency(5.7,False)\n",
    "gen.one_to_two_alterate_step_instructions_non_shuffled(8.9,4.6)\n",
    "gen.generate_instructions_from_arrays()"
   ]
  },
  {
   "cell_type": "markdown",
   "metadata": {},
   "source": [
    "## Paired Stimuli generator code"
   ]
  },
  {
   "cell_type": "code",
   "execution_count": 2,
   "metadata": {},
   "outputs": [
    {
     "name": "stdout",
     "output_type": "stream",
     "text": [
      "Contents from 'c:\\Users\\anton\\Desktop\\PhD_WL\\Code_indrepos\\TchuSNNet\\Input\\InputScripts\\PrePost_n_Parameters.txt' have been successfully written to './pre_post_0/PrePost_0_Parameters.txt'\n"
     ]
    }
   ],
   "source": [
    "import os\n",
    "from utils import PairedPopsGenerator, InputGenerator\n",
    "script_dir = (os.getcwd())\n",
    "\n",
    "# Construct the path to the input file relative to the script directory\n",
    "input_file_path = os.path.join(script_dir, \"PrePost_n_Parameters.txt\")\n",
    "with open(input_file_path, \"r\") as input_file:\n",
    "    # Read the contents of the input file\n",
    "    file_contents = input_file.read()\n",
    "\n",
    "\n",
    "\n",
    "for i in range(0,1):\n",
    "  new_dir=f\"./pre_post_{i}\"\n",
    "  os.makedirs(new_dir, exist_ok=True)\n",
    "  output_file_path = f\"./pre_post_{i}/PrePost_{i}_Parameters.txt\"\n",
    "\n",
    "# Open the output file for writing\n",
    "  with open(output_file_path, \"w\") as output_file:\n",
    "      # Write the contents of the input file into the output file\n",
    "      output_file.write(file_contents)\n",
    "  print(\"Contents from '{}' have been successfully written to '{}'\".format(input_file_path, output_file_path))\n",
    "  \n",
    "  gen=PairedPopsGenerator(testname=f'pre_post_{i}',pop_id1='0',pop_id2='1',N_Neurons_1=1,N_Neurons_2=1,total_time=600,time_intervals=3)\n",
    "  gen.paired_stimm(10,40,-0.015,0.5)\n"
   ]
  }
 ],
 "metadata": {
  "kernelspec": {
   "display_name": "base",
   "language": "python",
   "name": "python3"
  },
  "language_info": {
   "codemirror_mode": {
    "name": "ipython",
    "version": 3
   },
   "file_extension": ".py",
   "mimetype": "text/x-python",
   "name": "python",
   "nbconvert_exporter": "python",
   "pygments_lexer": "ipython3",
   "version": "3.11.3"
  },
  "orig_nbformat": 4
 },
 "nbformat": 4,
 "nbformat_minor": 2
}
