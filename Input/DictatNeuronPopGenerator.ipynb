{
 "cells": [
  {
   "cell_type": "code",
   "execution_count": 8,
   "metadata": {},
   "outputs": [],
   "source": [
    "import numpy as np\n",
    "import random as rd"
   ]
  },
  {
   "attachments": {},
   "cell_type": "markdown",
   "metadata": {},
   "source": [
    "### Base parameters and arrays"
   ]
  },
  {
   "cell_type": "code",
   "execution_count": 9,
   "metadata": {},
   "outputs": [],
   "source": [
    "testname='Test12'\n",
    "pop_id='0'\n",
    "filename=testname+'_DictatNeuronPop_'+pop_id+'_spikers.txt'\n",
    "N_neurons=100\n",
    "total_time=50.0 #In seconds\n",
    "total_time_intervals=4\n",
    "interval_duration=total_time/total_time_intervals\n",
    "\n",
    "random_max_frequencies=np.zeros(N_neurons)\n",
    "neuron_offsets=np.zeros(N_neurons)\n",
    "\n",
    "neuron_ids=np.array(range(0,N_neurons))\n",
    "instruction_start_times=np.zeros((N_neurons,total_time_intervals))\n",
    "instruction_end_times=np.zeros((N_neurons,total_time_intervals))\n",
    "frequencies=np.zeros((N_neurons,total_time_intervals))"
   ]
  },
  {
   "attachments": {},
   "cell_type": "markdown",
   "metadata": {},
   "source": [
    "### Array functions"
   ]
  },
  {
   "cell_type": "code",
   "execution_count": 10,
   "metadata": {},
   "outputs": [],
   "source": [
    "def _generate_random_arrays(neuron_id:int, max_frequency):\n",
    "    ###This actually generates a time interval that determines the phase\n",
    "    rd.seed(neuron_id)\n",
    "    neuron_offsets[neuron_id]=rd.uniform(0.0, 0.05)\n",
    "    random_max_frequencies[neuron_id]=rd.uniform(max_frequency/2, max_frequency)\n",
    "\n",
    "def set_up_arrays_random_max_frequency(max_frequency:float):\n",
    "    for i in range (0,N_neurons):\n",
    "        _generate_random_arrays(i, max_frequency)"
   ]
  },
  {
   "attachments": {},
   "cell_type": "markdown",
   "metadata": {},
   "source": [
    "### Instruction generation"
   ]
  },
  {
   "cell_type": "code",
   "execution_count": 11,
   "metadata": {},
   "outputs": [],
   "source": [
    "def _max_step(neuron,iteration):\n",
    "    instruction_start_times[neuron,iteration]=iteration*interval_duration+neuron_offsets[neuron]\n",
    "    instruction_end_times[neuron,iteration]=(iteration+1)*interval_duration+neuron_offsets[neuron]\n",
    "    frequencies[neuron,iteration]=random_max_frequencies[neuron]\n",
    "def _zero_step(neuron,iteration):\n",
    "    instruction_start_times[neuron,iteration]=iteration*interval_duration+neuron_offsets[neuron]\n",
    "    instruction_end_times[neuron,iteration]=(iteration+1)*interval_duration+neuron_offsets[neuron]\n",
    "    frequencies[neuron,iteration]=0\n",
    "def _alternate_step_zero_to_max(start:int,neuron):\n",
    "    for j in range (0,total_time_intervals):\n",
    "        if ((j+start)%2==0):\n",
    "            _max_step(neuron,j)\n",
    "        else:\n",
    "            _zero_step(neuron,j)\n",
    "def zero_to_max_alterate_step_instructions():\n",
    "    for i in range (0,N_neurons):\n",
    "        _alternate_step_zero_to_max(i%2,i)\n"
   ]
  },
  {
   "attachments": {},
   "cell_type": "markdown",
   "metadata": {},
   "source": [
    "### Write instructions functions"
   ]
  },
  {
   "cell_type": "code",
   "execution_count": 12,
   "metadata": {},
   "outputs": [],
   "source": [
    "def generate_instructions_from_arrays(neuron_ids:np.array, instruction_start_times:np.array, instruction_end_times:np.array,frequencies:np.array):\n",
    "    with open (filename, 'w') as text_file:\n",
    "        for i in range (0,N_neurons):\n",
    "            for j in range (0,total_time_intervals):\n",
    "                text_file.write('> '+ str(i)+' '+str(instruction_start_times[i,j])+' '+str(instruction_end_times[i,j])+ ' ' + str(frequencies[i,j])+'\\n')\n",
    "    text_file.close()"
   ]
  },
  {
   "attachments": {},
   "cell_type": "markdown",
   "metadata": {},
   "source": [
    "### Run Cod"
   ]
  },
  {
   "cell_type": "code",
   "execution_count": 13,
   "metadata": {},
   "outputs": [],
   "source": [
    "set_up_arrays_random_max_frequency(100)\n",
    "zero_to_max_alterate_step_instructions()\n",
    "generate_instructions_from_arrays(neuron_ids, instruction_start_times, instruction_end_times, frequencies)"
   ]
  }
 ],
 "metadata": {
  "kernelspec": {
   "display_name": "base",
   "language": "python",
   "name": "python3"
  },
  "language_info": {
   "codemirror_mode": {
    "name": "ipython",
    "version": 3
   },
   "file_extension": ".py",
   "mimetype": "text/x-python",
   "name": "python",
   "nbconvert_exporter": "python",
   "pygments_lexer": "ipython3",
   "version": "2022.10.-1"
  },
  "orig_nbformat": 4
 },
 "nbformat": 4,
 "nbformat_minor": 2
}
