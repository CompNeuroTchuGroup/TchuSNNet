{
 "cells": [
  {
   "cell_type": "code",
   "execution_count": 1,
   "metadata": {},
   "outputs": [],
   "source": [
    "import pandas as pd\n",
    "import numpy as np\n",
    "import os"
   ]
  },
  {
   "cell_type": "code",
   "execution_count": 4,
   "metadata": {},
   "outputs": [],
   "source": [
    "class NeuronPopRecording: #Suppose to be one file\n",
    "    metadata_datanames=['noNeurons', 'dt', 'totalTimesteps', 'neuronPopId']\n",
    "    def __init__(self, neuronPop_id : int):\n",
    "        self.neuronPop_id=neuronPop_id\n",
    "    def append_metadata(self, metadata_list : list):\n",
    "        self.metadata=metadata_list\n",
    "    def append_spiketimes(self, N_index : int, spiketimes_list : list):\n",
    "        setattr(self, \"Neuron_%s\" % (N_index), spiketimes_list)\n",
    "\n",
    "class OutputRecordingList: #Compendium of all recordings\n",
    "    def get(self):\n",
    "        return self.__dict__\n",
    "    def append(self, var : NeuronPopRecording):\n",
    "        setattr(self, \"NeuronPop_%s\" % (var.neuronPop_id), var)\n",
    "\n"
   ]
  },
  {
   "attachments": {},
   "cell_type": "markdown",
   "metadata": {},
   "source": [
    "### File reading"
   ]
  },
  {
   "cell_type": "code",
   "execution_count": 9,
   "metadata": {},
   "outputs": [
    {
     "data": {
      "text/plain": [
       "['AnalyseData.Rmd',\n",
       " 'hetero_analyser_mono_dendrite.ipynb',\n",
       " 'LoadData.R',\n",
       " 'ParsedFileReader.ipynb',\n",
       " 'README.txt']"
      ]
     },
     "execution_count": 9,
     "metadata": {},
     "output_type": "execute_result"
    }
   ],
   "source": [
    "#File reading here (files are always iterated on alphabetical order)\n",
    "parsedOutput_string='_ParsedOutput.dat'\n",
    "\n",
    "base_dir = os.getcwd()\n",
    "\n",
    "neuronPop_files = [f for f in os.listdir(base_dir) if f.endswith(parsedOutput_string)]"
   ]
  },
  {
   "attachments": {},
   "cell_type": "markdown",
   "metadata": {},
   "source": [
    "### Reading parsed spike times file (Neuron output)"
   ]
  },
  {
   "cell_type": "code",
   "execution_count": 7,
   "metadata": {},
   "outputs": [
    {
     "data": {
      "text/plain": [
       "{'NeuronPop_0': [0, 2, 4]}"
      ]
     },
     "execution_count": 7,
     "metadata": {},
     "output_type": "execute_result"
    }
   ],
   "source": [
    "#Here we use split = to get the name and the values, then split the second with commas to get the spike-time list\n",
    "def read_all_output_files_into_object(neuronPop_files):\n",
    "    all_recordingsST=OutputRecordingList()\n",
    "    for i, file in enumerate(neuronPop_files):\n",
    "        with open(file) as file:\n",
    "            firstline=file.readlines()[0].rstrip() #The first line should be the metadata\n",
    "            if not firstline.startswith('M'):\n",
    "                print('Error with metadata reading')\n",
    "                raise Exception\n",
    "            metadata_list=firstline.split('=')[1].split(',')\n",
    "            metadata_list[0]=int(metadata_list[0])\n",
    "            metadata_list[1]=float(metadata_list[1])\n",
    "            metadata_list[2]=int(metadata_list[2])\n",
    "            metadata_list[3]=int(metadata_list[3])\n",
    "            recording=NeuronPopRecording(metadata_list[3])\n",
    "            recording.append_metadata(metadata_list)\n",
    "            for line in file.readlines():\n",
    "                if line.startswith('M'):\n",
    "                    pass\n",
    "                elif line.startswith('N'):\n",
    "                    line=line.split('=')\n",
    "                    n_index=int(line[0].split('_')[1])\n",
    "                    spiketimes=list()\n",
    "                    for i in line[1].split(','):\n",
    "                        if i=='':\n",
    "                            continue\n",
    "                        else:\n",
    "                            spiketimes.append(i)\n",
    "                    recording.append_spiketimes(n_index, spiketimes)\n",
    "                else:\n",
    "                    print('Oversight error')\n",
    "                    raise Exception\n",
    "        all_recordingsST.append(recording)\n",
    "    return all_recordingsST"
   ]
  },
  {
   "cell_type": "code",
   "execution_count": null,
   "metadata": {},
   "outputs": [],
   "source": [
    "all_recordings=read_all_output_files_into_object(neuronPop_files)"
   ]
  }
 ],
 "metadata": {
  "kernelspec": {
   "display_name": "base",
   "language": "python",
   "name": "python3"
  },
  "language_info": {
   "codemirror_mode": {
    "name": "ipython",
    "version": 3
   },
   "file_extension": ".py",
   "mimetype": "text/x-python",
   "name": "python",
   "nbconvert_exporter": "python",
   "pygments_lexer": "ipython3",
   "version": "3.9.15"
  },
  "orig_nbformat": 4,
  "vscode": {
   "interpreter": {
    "hash": "7a4880536bc750f262d1b458e4fd4d611315d3098d58b77bd9c89b3237b9ab47"
   }
  }
 },
 "nbformat": 4,
 "nbformat_minor": 2
}
