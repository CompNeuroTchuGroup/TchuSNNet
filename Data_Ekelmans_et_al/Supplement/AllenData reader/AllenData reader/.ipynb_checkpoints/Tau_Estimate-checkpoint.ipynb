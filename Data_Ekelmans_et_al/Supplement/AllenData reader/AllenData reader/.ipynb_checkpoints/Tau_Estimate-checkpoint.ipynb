{
 "cells": [
  {
   "cell_type": "code",
   "execution_count": 2,
   "metadata": {},
   "outputs": [
    {
     "ename": "TypeError",
     "evalue": "get_cells() missing 1 required positional argument: 'self'",
     "output_type": "error",
     "traceback": [
      "\u001b[1;31m---------------------------------------------------------------------------\u001b[0m",
      "\u001b[1;31mTypeError\u001b[0m                                 Traceback (most recent call last)",
      "\u001b[1;32m<ipython-input-2-0e773ded297e>\u001b[0m in \u001b[0;36m<module>\u001b[1;34m\u001b[0m\n\u001b[0;32m      5\u001b[0m \u001b[1;33m\u001b[0m\u001b[0m\n\u001b[0;32m      6\u001b[0m \u001b[0mMouse\u001b[0m\u001b[1;33m=\u001b[0m\u001b[1;33m[\u001b[0m\u001b[1;33m]\u001b[0m\u001b[1;33m\u001b[0m\u001b[1;33m\u001b[0m\u001b[0m\n\u001b[1;32m----> 7\u001b[1;33m \u001b[1;32mfor\u001b[0m \u001b[0mcell\u001b[0m \u001b[1;32min\u001b[0m \u001b[0mctc\u001b[0m\u001b[1;33m.\u001b[0m\u001b[0mget_cells\u001b[0m\u001b[1;33m(\u001b[0m\u001b[1;33m)\u001b[0m\u001b[1;33m:\u001b[0m\u001b[1;33m\u001b[0m\u001b[1;33m\u001b[0m\u001b[0m\n\u001b[0m\u001b[0;32m      8\u001b[0m     \u001b[1;32mif\u001b[0m \u001b[0mcell\u001b[0m\u001b[1;33m[\u001b[0m\u001b[1;34m'species'\u001b[0m\u001b[1;33m]\u001b[0m\u001b[1;33m==\u001b[0m\u001b[1;34m'Mus musculus'\u001b[0m \u001b[1;32mand\u001b[0m \u001b[0mcell\u001b[0m\u001b[1;33m[\u001b[0m\u001b[1;34m'structure_area_abbrev'\u001b[0m\u001b[1;33m]\u001b[0m\u001b[1;33m==\u001b[0m\u001b[1;34m'VISp'\u001b[0m \u001b[1;32mand\u001b[0m \u001b[0mcell\u001b[0m\u001b[1;33m[\u001b[0m\u001b[1;34m'structure_layer_name'\u001b[0m\u001b[1;33m]\u001b[0m\u001b[1;33m==\u001b[0m\u001b[1;34m'2/3'\u001b[0m\u001b[1;33m:\u001b[0m\u001b[1;33m\u001b[0m\u001b[1;33m\u001b[0m\u001b[0m\n\u001b[0;32m      9\u001b[0m     \u001b[1;31m#if cell['species']=='Mus musculus':# and cell['structure_area_abbrev']=='VISp':\u001b[0m\u001b[1;33m\u001b[0m\u001b[1;33m\u001b[0m\u001b[1;33m\u001b[0m\u001b[0m\n",
      "\u001b[1;31mTypeError\u001b[0m: get_cells() missing 1 required positional argument: 'self'"
     ]
    }
   ],
   "source": [
    "from allensdk.core.cell_types_cache import CellTypesCache\n",
    "from allensdk.api.queries.cell_types_api import CellTypesApi\n",
    "from allensdk.core.cell_types_cache import ReporterStatus as RS\n",
    "ctc = CellTypesCache(manifest_file='cell_types/manifest.json')\n",
    "Mouse=[]\n",
    "for cell in ctc.get_cells():\n",
    "    if cell['species']=='Mus musculus' and cell['structure_area_abbrev']=='VISp' and cell['structure_layer_name']=='2/3':\n",
    "    #if cell['species']=='Mus musculus':# and cell['structure_area_abbrev']=='VISp':\n",
    "        Mouse.append(cell)\n",
    "E=[]\n",
    "I=[]\n",
    "for cell in Mouse:\n",
    "    if cell['dendrite_type']=='spiny':\n",
    "        E.append(cell['id'])\n",
    "    elif cell['name'][0:3] in ['Vip','Pva','Sst']:\n",
    "        I.append(cell['id'])\n",
    "print(cell.keys())\n",
    "\n",
    "ephys = ctc.get_ephys_features()\n",
    "tauE=[]\n",
    "tauI=[]\n",
    "\n",
    "idephys=[]\n",
    "for cell in ephys:\n",
    "    id=cell['specimen_id']\n",
    "    idephys.append(id)\n",
    "    if id in E:\n",
    "        tauE.append(cell['tau'])\n",
    "    elif id in I:\n",
    "        tauI.append(cell['tau'])\n",
    "\n",
    "print(cell.keys())\n",
    "        \n",
    "        \n",
    "print('tauE',sum(tauE)/len(tauE))\n",
    "print('tauI',sum(tauI)/len(tauI))\n",
    "\n"
   ]
  },
  {
   "cell_type": "code",
   "execution_count": null,
   "metadata": {},
   "outputs": [],
   "source": []
  }
 ],
 "metadata": {
  "kernelspec": {
   "display_name": "Python 3",
   "language": "python",
   "name": "python3"
  },
  "language_info": {
   "codemirror_mode": {
    "name": "ipython",
    "version": 3
   },
   "file_extension": ".py",
   "mimetype": "text/x-python",
   "name": "python",
   "nbconvert_exporter": "python",
   "pygments_lexer": "ipython3",
   "version": "3.7.6"
  }
 },
 "nbformat": 4,
 "nbformat_minor": 1
}
